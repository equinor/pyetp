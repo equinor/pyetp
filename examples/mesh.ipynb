{
 "cells": [
  {
   "cell_type": "code",
   "execution_count": 1,
   "metadata": {},
   "outputs": [
    {
     "name": "stderr",
     "output_type": "stream",
     "text": [
      "DEBUG:pyetp.client:sending RequestSession MessageHeader(protocol=0, message_type=1, correlation_id=0, message_id=2, message_flags=<MessageFlags.FINALPART: 2>)\n",
      "DEBUG:pyetp.client:starting recv loop\n",
      "DEBUG:pyetp.client:recv OpenSession MessageHeader(protocol=0, message_type=2, correlation_id=2, message_id=1, message_flags=2)\n",
      "DEBUG:pyetp.client:sending PutDataObjects MessageHeader(protocol=4, message_type=2, correlation_id=0, message_id=4, message_flags=<MessageFlags.FINALPART: 2>)\n",
      "DEBUG:pyetp.client:recv PutDataObjectsResponse MessageHeader(protocol=4, message_type=9, correlation_id=4, message_id=3, message_flags=2)\n",
      "DEBUG:pyetp.client:sending PutDataArrays MessageHeader(protocol=9, message_type=4, correlation_id=0, message_id=6, message_flags=<MessageFlags.FINALPART: 2>)\n",
      "DEBUG:pyetp.client:recv PutDataArraysResponse MessageHeader(protocol=9, message_type=10, correlation_id=6, message_id=5, message_flags=2)\n"
     ]
    },
    {
     "name": "stdout",
     "output_type": "stream",
     "text": [
      "gts:  GeologicTimeSeries(uuid=018f81ac-562c-11ef-b79c-000d3abe367a, title=None)\n",
      "put_epc_mesh property_titles ['Temperature', 'Porosity_initial', 'Porosity_decay', 'insulance_thermal', 'Age', 'Radiogenic_heat_production', 'Density_solid', 'LayerID']\n"
     ]
    },
    {
     "name": "stderr",
     "output_type": "stream",
     "text": [
      "DEBUG:pyetp.client:sending PutDataArrays MessageHeader(protocol=9, message_type=4, correlation_id=0, message_id=8, message_flags=<MessageFlags.FINALPART: 2>)\n",
      "DEBUG:pyetp.client:recv PutDataArraysResponse MessageHeader(protocol=9, message_type=10, correlation_id=8, message_id=7, message_flags=2)\n",
      "DEBUG:pyetp.client:sending PutDataArrays MessageHeader(protocol=9, message_type=4, correlation_id=0, message_id=10, message_flags=<MessageFlags.FINALPART: 2>)\n",
      "DEBUG:pyetp.client:recv PutDataArraysResponse MessageHeader(protocol=9, message_type=10, correlation_id=10, message_id=9, message_flags=2)\n",
      "DEBUG:pyetp.client:sending PutDataArrays MessageHeader(protocol=9, message_type=4, correlation_id=0, message_id=12, message_flags=<MessageFlags.FINALPART: 2>)\n",
      "DEBUG:pyetp.client:recv PutDataArraysResponse MessageHeader(protocol=9, message_type=10, correlation_id=12, message_id=11, message_flags=2)\n",
      "DEBUG:pyetp.client:sending PutDataArrays MessageHeader(protocol=9, message_type=4, correlation_id=0, message_id=14, message_flags=<MessageFlags.FINALPART: 2>)\n",
      "DEBUG:pyetp.client:recv PutDataArraysResponse MessageHeader(protocol=9, message_type=10, correlation_id=14, message_id=13, message_flags=2)\n",
      "DEBUG:pyetp.client:sending PutDataArrays MessageHeader(protocol=9, message_type=4, correlation_id=0, message_id=16, message_flags=<MessageFlags.FINALPART: 2>)\n",
      "DEBUG:pyetp.client:recv PutDataArraysResponse MessageHeader(protocol=9, message_type=10, correlation_id=16, message_id=15, message_flags=2)\n",
      "DEBUG:pyetp.client:sending PutDataObjects MessageHeader(protocol=4, message_type=2, correlation_id=0, message_id=18, message_flags=<MessageFlags.FINALPART: 2>)\n",
      "DEBUG:pyetp.client:recv PutDataObjectsResponse MessageHeader(protocol=4, message_type=9, correlation_id=18, message_id=17, message_flags=2)\n",
      "DEBUG:pyetp.client:sending PutDataArrays MessageHeader(protocol=9, message_type=4, correlation_id=0, message_id=20, message_flags=<MessageFlags.FINALPART: 2>)\n",
      "DEBUG:pyetp.client:recv PutDataArraysResponse MessageHeader(protocol=9, message_type=10, correlation_id=20, message_id=19, message_flags=2)\n",
      "DEBUG:pyetp.client:sending PutDataObjects MessageHeader(protocol=4, message_type=2, correlation_id=0, message_id=22, message_flags=<MessageFlags.FINALPART: 2>)\n",
      "DEBUG:pyetp.client:recv PutDataObjectsResponse MessageHeader(protocol=4, message_type=9, correlation_id=22, message_id=21, message_flags=2)\n",
      "DEBUG:pyetp.client:sending PutDataArrays MessageHeader(protocol=9, message_type=4, correlation_id=0, message_id=24, message_flags=<MessageFlags.FINALPART: 2>)\n",
      "DEBUG:pyetp.client:recv PutDataArraysResponse MessageHeader(protocol=9, message_type=10, correlation_id=24, message_id=23, message_flags=2)\n",
      "DEBUG:pyetp.client:sending PutDataObjects MessageHeader(protocol=4, message_type=2, correlation_id=0, message_id=26, message_flags=<MessageFlags.FINALPART: 2>)\n",
      "DEBUG:pyetp.client:recv PutDataObjectsResponse MessageHeader(protocol=4, message_type=9, correlation_id=26, message_id=25, message_flags=2)\n",
      "DEBUG:pyetp.client:sending PutDataObjects MessageHeader(protocol=4, message_type=2, correlation_id=0, message_id=28, message_flags=<MessageFlags.FINALPART: 2>)\n",
      "DEBUG:pyetp.client:recv PutDataObjectsResponse MessageHeader(protocol=4, message_type=9, correlation_id=28, message_id=27, message_flags=2)\n",
      "DEBUG:pyetp.client:sending PutDataArrays MessageHeader(protocol=9, message_type=4, correlation_id=0, message_id=30, message_flags=<MessageFlags.FINALPART: 2>)\n",
      "DEBUG:pyetp.client:recv PutDataArraysResponse MessageHeader(protocol=9, message_type=10, correlation_id=30, message_id=29, message_flags=2)\n",
      "DEBUG:pyetp.client:sending PutDataObjects MessageHeader(protocol=4, message_type=2, correlation_id=0, message_id=32, message_flags=<MessageFlags.FINALPART: 2>)\n",
      "DEBUG:pyetp.client:recv PutDataObjectsResponse MessageHeader(protocol=4, message_type=9, correlation_id=32, message_id=31, message_flags=2)\n",
      "DEBUG:pyetp.client:sending PutDataObjects MessageHeader(protocol=4, message_type=2, correlation_id=0, message_id=34, message_flags=<MessageFlags.FINALPART: 2>)\n",
      "DEBUG:pyetp.client:recv PutDataObjectsResponse MessageHeader(protocol=4, message_type=9, correlation_id=34, message_id=33, message_flags=2)\n",
      "DEBUG:pyetp.client:sending PutDataArrays MessageHeader(protocol=9, message_type=4, correlation_id=0, message_id=36, message_flags=<MessageFlags.FINALPART: 2>)\n",
      "DEBUG:pyetp.client:recv PutDataArraysResponse MessageHeader(protocol=9, message_type=10, correlation_id=36, message_id=35, message_flags=2)\n",
      "DEBUG:pyetp.client:sending PutDataObjects MessageHeader(protocol=4, message_type=2, correlation_id=0, message_id=38, message_flags=<MessageFlags.FINALPART: 2>)\n",
      "DEBUG:pyetp.client:recv PutDataObjectsResponse MessageHeader(protocol=4, message_type=9, correlation_id=38, message_id=37, message_flags=2)\n",
      "DEBUG:pyetp.client:sending PutDataObjects MessageHeader(protocol=4, message_type=2, correlation_id=0, message_id=40, message_flags=<MessageFlags.FINALPART: 2>)\n",
      "DEBUG:pyetp.client:recv PutDataObjectsResponse MessageHeader(protocol=4, message_type=9, correlation_id=40, message_id=39, message_flags=2)\n",
      "DEBUG:pyetp.client:sending PutDataArrays MessageHeader(protocol=9, message_type=4, correlation_id=0, message_id=42, message_flags=<MessageFlags.FINALPART: 2>)\n",
      "DEBUG:pyetp.client:recv PutDataArraysResponse MessageHeader(protocol=9, message_type=10, correlation_id=42, message_id=41, message_flags=2)\n",
      "DEBUG:pyetp.client:sending PutDataObjects MessageHeader(protocol=4, message_type=2, correlation_id=0, message_id=44, message_flags=<MessageFlags.FINALPART: 2>)\n",
      "DEBUG:pyetp.client:recv PutDataObjectsResponse MessageHeader(protocol=4, message_type=9, correlation_id=44, message_id=43, message_flags=2)\n",
      "DEBUG:pyetp.client:sending PutDataObjects MessageHeader(protocol=4, message_type=2, correlation_id=0, message_id=46, message_flags=<MessageFlags.FINALPART: 2>)\n",
      "DEBUG:pyetp.client:recv PutDataObjectsResponse MessageHeader(protocol=4, message_type=9, correlation_id=46, message_id=45, message_flags=2)\n",
      "DEBUG:pyetp.client:sending PutDataArrays MessageHeader(protocol=9, message_type=4, correlation_id=0, message_id=48, message_flags=<MessageFlags.FINALPART: 2>)\n",
      "DEBUG:pyetp.client:recv PutDataArraysResponse MessageHeader(protocol=9, message_type=10, correlation_id=48, message_id=47, message_flags=2)\n",
      "DEBUG:pyetp.client:sending PutDataObjects MessageHeader(protocol=4, message_type=2, correlation_id=0, message_id=50, message_flags=<MessageFlags.FINALPART: 2>)\n",
      "DEBUG:pyetp.client:recv PutDataObjectsResponse MessageHeader(protocol=4, message_type=9, correlation_id=50, message_id=49, message_flags=2)\n",
      "DEBUG:pyetp.client:sending PutDataObjects MessageHeader(protocol=4, message_type=2, correlation_id=0, message_id=52, message_flags=<MessageFlags.FINALPART: 2>)\n",
      "DEBUG:pyetp.client:recv PutDataObjectsResponse MessageHeader(protocol=4, message_type=9, correlation_id=52, message_id=51, message_flags=2)\n",
      "DEBUG:pyetp.client:sending PutDataArrays MessageHeader(protocol=9, message_type=4, correlation_id=0, message_id=54, message_flags=<MessageFlags.FINALPART: 2>)\n",
      "DEBUG:pyetp.client:recv PutDataArraysResponse MessageHeader(protocol=9, message_type=10, correlation_id=54, message_id=53, message_flags=2)\n",
      "DEBUG:pyetp.client:sending PutDataObjects MessageHeader(protocol=4, message_type=2, correlation_id=0, message_id=56, message_flags=<MessageFlags.FINALPART: 2>)\n",
      "DEBUG:pyetp.client:recv PutDataObjectsResponse MessageHeader(protocol=4, message_type=9, correlation_id=56, message_id=55, message_flags=2)\n",
      "DEBUG:pyetp.client:sending PutDataObjects MessageHeader(protocol=4, message_type=2, correlation_id=0, message_id=58, message_flags=<MessageFlags.FINALPART: 2>)\n",
      "DEBUG:pyetp.client:recv PutDataObjectsResponse MessageHeader(protocol=4, message_type=9, correlation_id=58, message_id=57, message_flags=2)\n",
      "DEBUG:pyetp.client:sending PutDataArrays MessageHeader(protocol=9, message_type=4, correlation_id=0, message_id=60, message_flags=<MessageFlags.FINALPART: 2>)\n",
      "DEBUG:pyetp.client:recv PutDataArraysResponse MessageHeader(protocol=9, message_type=10, correlation_id=60, message_id=59, message_flags=2)\n",
      "DEBUG:pyetp.client:sending CloseSession MessageHeader(protocol=0, message_type=5, correlation_id=0, message_id=62, message_flags=<MessageFlags.FINALPART: 2>)\n"
     ]
    }
   ],
   "source": [
    "from pyetp.client import connect\n",
    "from pyetp.config import SETTINGS\n",
    "from pyetp.types import *\n",
    "import xtgeo\n",
    "\n",
    "SETTINGS.dataspace = 'demo/pss-data-gateway'\n",
    "SETTINGS.etp_url = 'ws://localhost:9100'\n",
    "SETTINGS.application_name ='etpTest'\n",
    "SETTINGS.application_version='0.0.1'\n",
    "\n",
    "token = \"\"\n",
    "\n",
    "import resqpy.model as rq\n",
    "import resqpy.property as rqp\n",
    "import resqpy.unstructured as rug\n",
    "\n",
    "\n",
    "model = rq.Model('../data/model_hexa_0.epc')\n",
    "assert model is not None\n",
    "\n",
    "hexa_uuids = model.uuids(obj_type='UnstructuredGridRepresentation')\n",
    "hexa = rug.HexaGrid(model, uuid=hexa_uuids[0])\n",
    "assert hexa is not None\n",
    "assert hexa.nodes_per_face is not None, \"hexamesh object is incomplete\"\n",
    "assert hexa.nodes_per_face_cl is not None, \"hexamesh object is incomplete\"\n",
    "assert hexa.faces_per_cell is not None, \"hexamesh object is incomplete\"\n",
    "assert hexa.faces_per_cell_cl is not None, \"hexamesh object is incomplete\"\n",
    "assert hexa.cell_face_is_right_handed is not None, \"hexamesh object is incomplete\"\n",
    "\n",
    "uuids = model.uuids(obj_type='ContinuousProperty')\n",
    "prop_titles = list(set([rqp.Property(model, uuid=u).title for u in uuids]))\n",
    "uuids = model.uuids(obj_type='DiscreteProperty')\n",
    "prop_titles = list(set(prop_titles + [rqp.Property(model, uuid=u).title for u in uuids]))\n",
    "\n",
    "#\n",
    "# The optional \"points\" (dynamic nodes) property is neither ContinuousProperty nor DiscreteProperty: special treatment\n",
    "#\n",
    "node_uuids = model.uuids(title = 'points')         \n",
    "special_prop_titles = list(set([rqp.Property(model, uuid=u).title for u in node_uuids]))\n",
    "prop_titles = prop_titles + special_prop_titles\n",
    "async with connect() as client:\n",
    "    rddms_uris, prop_uris = await client.put_epc_mesh('../data/model_hexa_0.epc', hexa.title, prop_titles, 23031, SETTINGS.duri)"
   ]
  },
  {
   "cell_type": "code",
   "execution_count": 2,
   "metadata": {},
   "outputs": [],
   "source": [
    "uns_uri = rddms_uris[2]\n",
    "epc = rddms_uris[0]\n",
    "temperature_uri = prop_uris[\"Temperature\"][1][0]"
   ]
  },
  {
   "cell_type": "code",
   "execution_count": 3,
   "metadata": {},
   "outputs": [
    {
     "name": "stderr",
     "output_type": "stream",
     "text": [
      "DEBUG:pyetp.client:sending RequestSession MessageHeader(protocol=0, message_type=1, correlation_id=0, message_id=2, message_flags=<MessageFlags.FINALPART: 2>)\n",
      "DEBUG:pyetp.client:starting recv loop\n",
      "DEBUG:pyetp.client:recv OpenSession MessageHeader(protocol=0, message_type=2, correlation_id=2, message_id=1, message_flags=2)\n",
      "DEBUG:pyetp.client:sending GetDataObjects MessageHeader(protocol=4, message_type=1, correlation_id=0, message_id=4, message_flags=<MessageFlags.FINALPART: 2>)\n",
      "DEBUG:pyetp.client:recv GetDataObjectsResponse MessageHeader(protocol=4, message_type=4, correlation_id=4, message_id=3, message_flags=2)\n",
      "DEBUG:pyetp.client:sending GetDataArrayMetadata MessageHeader(protocol=9, message_type=6, correlation_id=0, message_id=6, message_flags=<MessageFlags.FINALPART: 2>)\n",
      "DEBUG:pyetp.client:recv GetDataArrayMetadataResponse MessageHeader(protocol=9, message_type=7, correlation_id=6, message_id=5, message_flags=2)\n",
      "DEBUG:pyetp.client:sending GetDataArrays MessageHeader(protocol=9, message_type=2, correlation_id=0, message_id=8, message_flags=<MessageFlags.FINALPART: 2>)\n",
      "DEBUG:pyetp.client:recv GetDataArraysResponse MessageHeader(protocol=9, message_type=1, correlation_id=8, message_id=7, message_flags=2)\n",
      "DEBUG:pyetp.client:sending GetDataObjects MessageHeader(protocol=4, message_type=1, correlation_id=0, message_id=10, message_flags=<MessageFlags.FINALPART: 2>)\n",
      "DEBUG:pyetp.client:recv GetDataObjectsResponse MessageHeader(protocol=4, message_type=4, correlation_id=10, message_id=9, message_flags=2)\n",
      "DEBUG:pyetp.client:sending GetDataArrayMetadata MessageHeader(protocol=9, message_type=6, correlation_id=0, message_id=12, message_flags=<MessageFlags.FINALPART: 2>)\n",
      "DEBUG:pyetp.client:recv GetDataArrayMetadataResponse MessageHeader(protocol=9, message_type=7, correlation_id=12, message_id=11, message_flags=2)\n",
      "DEBUG:pyetp.client:sending GetDataArrayMetadata MessageHeader(protocol=9, message_type=6, correlation_id=0, message_id=14, message_flags=<MessageFlags.FINALPART: 2>)\n",
      "DEBUG:pyetp.client:recv GetDataArrayMetadataResponse MessageHeader(protocol=9, message_type=7, correlation_id=14, message_id=13, message_flags=2)\n",
      "DEBUG:pyetp.client:get_subarray starts=[507] counts=[702]\n",
      "DEBUG:pyetp.client:sending GetDataSubarrays MessageHeader(protocol=9, message_type=3, correlation_id=0, message_id=16, message_flags=<MessageFlags.FINALPART: 2>)\n",
      "DEBUG:pyetp.client:recv GetDataSubarraysResponse MessageHeader(protocol=9, message_type=8, correlation_id=16, message_id=15, message_flags=2)\n",
      "DEBUG:pyetp.client:sending CloseSession MessageHeader(protocol=0, message_type=5, correlation_id=0, message_id=18, message_flags=<MessageFlags.FINALPART: 2>)\n"
     ]
    }
   ],
   "source": [
    "x = 3000\n",
    "y = 6000\n",
    "top = 0\n",
    "bottom = 1000\n",
    "async with connect() as client:\n",
    "    v = await client.get_epc_mesh_property_x_y(epc,uns_uri,temperature_uri,x,y,top, bottom)"
   ]
  },
  {
   "cell_type": "code",
   "execution_count": 4,
   "metadata": {},
   "outputs": [
    {
     "data": {
      "text/plain": [
       "{'depth': array([ 200.,  300.,  400.,  500.,  600.,  700.,  800.,  900., 1000.]),\n",
       " 'values': array([ 5.        ,  9.13037713, 14.03349246, 18.93660779, 23.82594922,\n",
       "        28.71433603, 33.60272284, 38.46250594, 42.41760754])}"
      ]
     },
     "execution_count": 4,
     "metadata": {},
     "output_type": "execute_result"
    }
   ],
   "source": [
    "v"
   ]
  },
  {
   "cell_type": "code",
   "execution_count": null,
   "metadata": {},
   "outputs": [],
   "source": []
  }
 ],
 "metadata": {
  "kernelspec": {
   "display_name": ".venv",
   "language": "python",
   "name": "python3"
  },
  "language_info": {
   "codemirror_mode": {
    "name": "ipython",
    "version": 3
   },
   "file_extension": ".py",
   "mimetype": "text/x-python",
   "name": "python",
   "nbconvert_exporter": "python",
   "pygments_lexer": "ipython3",
   "version": "3.10.6"
  }
 },
 "nbformat": 4,
 "nbformat_minor": 2
}
