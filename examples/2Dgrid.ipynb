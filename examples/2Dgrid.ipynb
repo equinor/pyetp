{
 "cells": [
  {
   "cell_type": "code",
   "execution_count": 1,
   "metadata": {},
   "outputs": [
    {
     "name": "stderr",
     "output_type": "stream",
     "text": [
      "DEBUG:pyetp.client:sending RequestSession MessageHeader(protocol=0, message_type=1, correlation_id=0, message_id=2, message_flags=<MessageFlags.FINALPART: 2>)\n",
      "DEBUG:pyetp.client:starting recv loop\n",
      "DEBUG:pyetp.client:recv OpenSession MessageHeader(protocol=0, message_type=2, correlation_id=2, message_id=1, message_flags=2)\n",
      "DEBUG:pyetp.client:sending PutDataspaces MessageHeader(protocol=24, message_type=3, correlation_id=0, message_id=4, message_flags=<MessageFlags.FINALPART: 2>)\n",
      "DEBUG:pyetp.client:recv ProtocolException MessageHeader(protocol=24, message_type=1000, correlation_id=4, message_id=3, message_flags=2)\n",
      "DEBUG:pyetp.client:sending PutDataObjects MessageHeader(protocol=4, message_type=2, correlation_id=0, message_id=6, message_flags=<MessageFlags.FINALPART: 2>)\n",
      "DEBUG:pyetp.client:recv PutDataObjectsResponse MessageHeader(protocol=4, message_type=9, correlation_id=6, message_id=5, message_flags=2)\n",
      "DEBUG:pyetp.client:sending PutDataArrays MessageHeader(protocol=9, message_type=4, correlation_id=0, message_id=8, message_flags=<MessageFlags.FINALPART: 2>)\n",
      "DEBUG:pyetp.client:recv PutDataArraysResponse MessageHeader(protocol=9, message_type=10, correlation_id=8, message_id=7, message_flags=2)\n",
      "DEBUG:pyetp.client:sending CloseSession MessageHeader(protocol=0, message_type=5, correlation_id=0, message_id=10, message_flags=<MessageFlags.FINALPART: 2>)\n"
     ]
    }
   ],
   "source": [
    "from pyetp.client import connect\n",
    "from pyetp.config import SETTINGS\n",
    "from pyetp.types import *\n",
    "import xtgeo\n",
    "\n",
    "SETTINGS.dataspace = 'demo/pss-data-gateway'\n",
    "SETTINGS.etp_url = 'wss://<URL>'\n",
    "SETTINGS.application_name ='etpTest'\n",
    "SETTINGS.application_version='0.0.1'\n",
    "\n",
    "token = \"\"\n",
    "async with connect(authorization=token, timeout=60) as client:\n",
    "        await client.put_dataspaces_no_raise(client.default_dataspace_uri) # create new dataspace if not exist\n",
    "        surf = xtgeo.surface_from_file('../data/test.gri', fformat='irap_binary')\n",
    "        epsg_code = 23031\n",
    "        urls = await client.put_xtgeo_surface(surf, epsg_code, client.default_dataspace_uri) # chunked upload using subarray if size too large\n"
   ]
  },
  {
   "cell_type": "code",
   "execution_count": 2,
   "metadata": {},
   "outputs": [
    {
     "name": "stdout",
     "output_type": "stream",
     "text": [
      "eml:///dataspace('demo/pss-data-gateway')/eml20.EpcExternalPartReference(13a747a5-4350-4ab1-92cb-05d587e3b909)\n",
      "eml:///dataspace('demo/pss-data-gateway')/resqml20.LocalDepth3dCrs(211a7405-c702-4a15-946e-c183d80581f3)\n",
      "eml:///dataspace('demo/pss-data-gateway')/resqml20.Grid2dRepresentation(d2282613-d5f7-45fb-a07a-bfefdec18013)\n"
     ]
    }
   ],
   "source": [
    "for i in urls:\n",
    "    print(i.raw_uri)\n"
   ]
  },
  {
   "cell_type": "code",
   "execution_count": 3,
   "metadata": {},
   "outputs": [
    {
     "name": "stderr",
     "output_type": "stream",
     "text": [
      "DEBUG:pyetp.client:sending RequestSession MessageHeader(protocol=0, message_type=1, correlation_id=0, message_id=2, message_flags=<MessageFlags.FINALPART: 2>)\n",
      "DEBUG:pyetp.client:starting recv loop\n",
      "DEBUG:pyetp.client:recv OpenSession MessageHeader(protocol=0, message_type=2, correlation_id=2, message_id=1, message_flags=2)\n",
      "DEBUG:pyetp.client:sending GetDataObjects MessageHeader(protocol=4, message_type=1, correlation_id=0, message_id=4, message_flags=<MessageFlags.FINALPART: 2>)\n",
      "DEBUG:pyetp.client:recv GetDataObjectsResponse MessageHeader(protocol=4, message_type=4, correlation_id=4, message_id=3, message_flags=2)\n",
      "DEBUG:pyetp.client:sending GetDataArrayMetadata MessageHeader(protocol=9, message_type=6, correlation_id=0, message_id=6, message_flags=<MessageFlags.FINALPART: 2>)\n",
      "DEBUG:pyetp.client:recv GetDataArrayMetadataResponse MessageHeader(protocol=9, message_type=7, correlation_id=6, message_id=5, message_flags=2)\n",
      "DEBUG:pyetp.client:sending GetDataArrays MessageHeader(protocol=9, message_type=2, correlation_id=0, message_id=8, message_flags=<MessageFlags.FINALPART: 2>)\n",
      "DEBUG:pyetp.client:recv GetDataArraysResponse MessageHeader(protocol=9, message_type=1, correlation_id=8, message_id=7, message_flags=2)\n",
      "DEBUG:pyetp.client:sending CloseSession MessageHeader(protocol=0, message_type=5, correlation_id=0, message_id=10, message_flags=<MessageFlags.FINALPART: 2>)\n"
     ]
    }
   ],
   "source": [
    "async with connect(authorization=token, timeout=60) as client:\n",
    "    gri, = await client.get_resqml_objects(urls[2]) # parallelized using subarray\n",
    "    arr = await client.get_array(DataArrayIdentifier(\n",
    "                uri=str(urls[0]), pathInResource=gri.grid2d_patch.geometry.points.zvalues.values.path_in_hdf_file\n",
    "            )) # parallelized using subarray"
   ]
  },
  {
   "cell_type": "code",
   "execution_count": 4,
   "metadata": {},
   "outputs": [
    {
     "data": {
      "text/plain": [
       "Grid2dRepresentation(citation=Citation(title='unknown', originator='etpTest', creation=XmlDateTime(2024, 3, 21, 9, 59, 48), format='etpTest:v0.0.1', editor=None, last_update=None, version_string=None, description=None, descriptive_keywords=None), aliases=[], custom_data=None, schema_version='2.0', uuid='d2282613-d5f7-45fb-a07a-bfefdec18013', object_version=None, extra_metadata=[], represented_interpretation=None, surface_role=<SurfaceRole.MAP: 'map'>, boundaries=[], grid2d_patch=Grid2dPatch(patch_index=0, fastest_axis_count=400, slowest_axis_count=500, geometry=PointGeometry(time_index=None, local_crs=DataObjectReference(content_type='application/x-resqml+xml;version=2.0;type=LocalDepth3dCrs', title='CRS for unknown', uuid='211a7405-c702-4a15-946e-c183d80581f3', uuid_authority=None, version_string=None), points=Point3dZValueArray(supporting_geometry=Point3dLatticeArray(all_dimensions_are_orthogonal=None, origin=Point3d(coordinate1=414.38568115234375, coordinate2=679.4137573242188, coordinate3=0.0), offset=[Point3dOffset(offset=Point3d(coordinate1=1.0, coordinate2=0.0, coordinate3=0.0), spacing=DoubleConstantArray(value=221.65777587890625, count=499)), Point3dOffset(offset=Point3d(coordinate1=0.0, coordinate2=1.0, coordinate3=0.0), spacing=DoubleConstantArray(value=392.46893310546875, count=399))]), zvalues=DoubleHdf5Array(values=Hdf5Dataset(path_in_hdf_file='/RESQML/d2282613-d5f7-45fb-a07a-bfefdec18013/zvalues', hdf_proxy=DataObjectReference(content_type='application/x-eml+xml;version=2.0;type=EpcExternalPartReference', title='Hdf Proxy', uuid='13a747a5-4350-4ab1-92cb-05d587e3b909', uuid_authority=None, version_string=None)))), seismic_coordinates=None)))"
      ]
     },
     "execution_count": 4,
     "metadata": {},
     "output_type": "execute_result"
    }
   ],
   "source": [
    "gri"
   ]
  },
  {
   "cell_type": "code",
   "execution_count": 5,
   "metadata": {},
   "outputs": [
    {
     "data": {
      "text/plain": [
       "array([[0.8506015 , 0.56227505, 0.31100875, ..., 0.82323563, 0.44379264,\n",
       "        0.7478812 ],\n",
       "       [0.75474274, 0.02914623, 0.48869565, ..., 0.224014  , 0.6695323 ,\n",
       "        0.86974293],\n",
       "       [0.38983092, 0.92269933, 0.9598281 , ..., 0.20948039, 0.22134982,\n",
       "        0.00741855],\n",
       "       ...,\n",
       "       [0.72381335, 0.31973526, 0.7490787 , ..., 0.913171  , 0.05440214,\n",
       "        0.9691767 ],\n",
       "       [0.5557336 , 0.10602916, 0.46710327, ..., 0.2674649 , 0.8692388 ,\n",
       "        0.07431769],\n",
       "       [0.5399276 , 0.5520293 , 0.43321192, ..., 0.25207523, 0.55928504,\n",
       "        0.6851172 ]], dtype=float32)"
      ]
     },
     "execution_count": 5,
     "metadata": {},
     "output_type": "execute_result"
    }
   ],
   "source": [
    "arr"
   ]
  },
  {
   "cell_type": "code",
   "execution_count": 6,
   "metadata": {},
   "outputs": [
    {
     "name": "stderr",
     "output_type": "stream",
     "text": [
      "DEBUG:pyetp.client:sending RequestSession MessageHeader(protocol=0, message_type=1, correlation_id=0, message_id=2, message_flags=<MessageFlags.FINALPART: 2>)\n",
      "DEBUG:pyetp.client:starting recv loop\n",
      "DEBUG:pyetp.client:recv OpenSession MessageHeader(protocol=0, message_type=2, correlation_id=2, message_id=1, message_flags=2)\n",
      "DEBUG:pyetp.client:sending GetDataObjects MessageHeader(protocol=4, message_type=1, correlation_id=0, message_id=4, message_flags=<MessageFlags.FINALPART: 2>)\n",
      "DEBUG:pyetp.client:recv GetDataObjectsResponse MessageHeader(protocol=4, message_type=4, correlation_id=4, message_id=3, message_flags=2)\n",
      "DEBUG:pyetp.client:sending GetDataArrayMetadata MessageHeader(protocol=9, message_type=6, correlation_id=0, message_id=6, message_flags=<MessageFlags.FINALPART: 2>)\n",
      "DEBUG:pyetp.client:recv GetDataArrayMetadataResponse MessageHeader(protocol=9, message_type=7, correlation_id=6, message_id=5, message_flags=2)\n",
      "DEBUG:pyetp.client:sending GetDataArrays MessageHeader(protocol=9, message_type=2, correlation_id=0, message_id=8, message_flags=<MessageFlags.FINALPART: 2>)\n",
      "DEBUG:pyetp.client:recv GetDataArraysResponse MessageHeader(protocol=9, message_type=1, correlation_id=8, message_id=7, message_flags=2)\n",
      "DEBUG:pyetp.client:sending CloseSession MessageHeader(protocol=0, message_type=5, correlation_id=0, message_id=10, message_flags=<MessageFlags.FINALPART: 2>)\n"
     ]
    }
   ],
   "source": [
    "async with connect(authorization=token, timeout=60) as client:\n",
    "    surf = await client.get_xtgeo_surface(urls[0], urls[2])"
   ]
  },
  {
   "cell_type": "code",
   "execution_count": 7,
   "metadata": {},
   "outputs": [
    {
     "name": "stderr",
     "output_type": "stream",
     "text": [
      "DEBUG:pyetp.client:sending RequestSession MessageHeader(protocol=0, message_type=1, correlation_id=0, message_id=2, message_flags=<MessageFlags.FINALPART: 2>)\n",
      "DEBUG:pyetp.client:starting recv loop\n",
      "DEBUG:pyetp.client:recv OpenSession MessageHeader(protocol=0, message_type=2, correlation_id=2, message_id=1, message_flags=2)\n",
      "DEBUG:pyetp.client:sending DeleteDataObjects MessageHeader(protocol=4, message_type=3, correlation_id=0, message_id=4, message_flags=<MessageFlags.FINALPART: 2>)\n"
     ]
    },
    {
     "name": "stderr",
     "output_type": "stream",
     "text": [
      "DEBUG:pyetp.client:recv DeleteDataObjectsResponse MessageHeader(protocol=4, message_type=10, correlation_id=4, message_id=3, message_flags=2)\n",
      "DEBUG:pyetp.client:sending CloseSession MessageHeader(protocol=0, message_type=5, correlation_id=0, message_id=6, message_flags=<MessageFlags.FINALPART: 2>)\n"
     ]
    }
   ],
   "source": [
    "async with connect(authorization=token, timeout=60) as client:\n",
    "    urls = await client.delete_data_objects(*map(str, urls))"
   ]
  },
  {
   "cell_type": "code",
   "execution_count": null,
   "metadata": {},
   "outputs": [],
   "source": []
  }
 ],
 "metadata": {
  "kernelspec": {
   "display_name": "Python 3",
   "language": "python",
   "name": "python3"
  },
  "language_info": {
   "codemirror_mode": {
    "name": "ipython",
    "version": 3
   },
   "file_extension": ".py",
   "mimetype": "text/x-python",
   "name": "python",
   "nbconvert_exporter": "python",
   "pygments_lexer": "ipython3",
   "version": "3.11.8"
  }
 },
 "nbformat": 4,
 "nbformat_minor": 2
}
