{
 "cells": [
  {
   "cell_type": "code",
   "execution_count": null,
   "metadata": {},
   "outputs": [],
   "source": [
    "from pyetp.client import connect\n",
    "from pyetp.config import SETTINGS\n",
    "from pyetp.types import *\n",
    "import xtgeo\n",
    "\n",
    "SETTINGS.dataspace = 'demo/pss-data-gateway'\n",
    "SETTINGS.etp_url = 'ws://localhost:9002'\n",
    "SETTINGS.application_name ='etpTest'\n",
    "SETTINGS.application_version='0.0.1'\n",
    "\n",
    "token = \"\"\n",
    "async with connect(timeout=60) as client:\n",
    "        await client.put_dataspaces_no_raise(client.default_dataspace_uri) # create new dataspace if not exist\n",
    "        surf = xtgeo.surface_from_file('../data/test.gri', fformat='irap_binary')\n",
    "        epsg_code = 23031\n",
    "        urls = await client.put_xtgeo_surface(surf, epsg_code, client.default_dataspace_uri) # chunked upload using subarray if size too large\n"
   ]
  },
  {
   "cell_type": "code",
   "execution_count": null,
   "metadata": {},
   "outputs": [],
   "source": [
    "for i in urls:\n",
    "    print(i.raw_uri)\n"
   ]
  },
  {
   "cell_type": "code",
   "execution_count": null,
   "metadata": {},
   "outputs": [],
   "source": [
    "async with connect(authorization=token, timeout=60) as client:\n",
    "    gri, = await client.get_resqml_objects(urls[2]) # parallelized using subarray\n",
    "    arr = await client.get_array(DataArrayIdentifier(\n",
    "                uri=str(urls[0]), pathInResource=gri.grid2d_patch.geometry.points.zvalues.values.path_in_hdf_file\n",
    "            )) # parallelized using subarray"
   ]
  },
  {
   "cell_type": "code",
   "execution_count": null,
   "metadata": {},
   "outputs": [],
   "source": [
    "gri"
   ]
  },
  {
   "cell_type": "code",
   "execution_count": null,
   "metadata": {},
   "outputs": [],
   "source": [
    "arr"
   ]
  },
  {
   "cell_type": "code",
   "execution_count": null,
   "metadata": {},
   "outputs": [],
   "source": [
    "async with connect(authorization=token, timeout=60) as client:\n",
    "    surf = await client.get_xtgeo_surface(urls[0], urls[2])"
   ]
  },
  {
   "cell_type": "code",
   "execution_count": null,
   "metadata": {},
   "outputs": [],
   "source": [
    "async with connect(authorization=token, timeout=60) as client:\n",
    "    urls = await client.delete_data_objects(*map(str, urls))"
   ]
  },
  {
   "cell_type": "code",
   "execution_count": null,
   "metadata": {},
   "outputs": [],
   "source": []
  }
 ],
 "metadata": {
  "kernelspec": {
   "display_name": "Python 3",
   "language": "python",
   "name": "python3"
  },
  "language_info": {
   "codemirror_mode": {
    "name": "ipython",
    "version": 3
   },
   "file_extension": ".py",
   "mimetype": "text/x-python",
   "name": "python",
   "nbconvert_exporter": "python",
   "pygments_lexer": "ipython3",
   "version": "3.8.19"
  }
 },
 "nbformat": 4,
 "nbformat_minor": 2
}
